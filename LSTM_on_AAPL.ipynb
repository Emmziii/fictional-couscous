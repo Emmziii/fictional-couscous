{
  "nbformat": 4,
  "nbformat_minor": 0,
  "metadata": {
    "colab": {
      "name": "LSTM on AAPL.ipynb",
      "provenance": [],
      "authorship_tag": "ABX9TyNeNdaDPrY8Ojey2WGiVP75",
      "include_colab_link": true
    },
    "kernelspec": {
      "name": "python3",
      "display_name": "Python 3"
    },
    "language_info": {
      "name": "python"
    }
  },
  "cells": [
    {
      "cell_type": "markdown",
      "metadata": {
        "id": "view-in-github",
        "colab_type": "text"
      },
      "source": [
        "<a href=\"https://colab.research.google.com/github/Emmziii/fictional-couscous/blob/main/LSTM_on_AAPL.ipynb\" target=\"_parent\"><img src=\"https://colab.research.google.com/assets/colab-badge.svg\" alt=\"Open In Colab\"/></a>"
      ]
    },
    {
      "cell_type": "code",
      "metadata": {
        "id": "ryJTnHuGLqj8"
      },
      "source": [
        "import math\n",
        "import numpy as np\n",
        "import pandas as pd\n",
        "import pandas_datareader.data as web\n",
        "from sklearn.preprocessing import MinMaxScaler\n",
        "from keras.models import Sequential\n",
        "from keras.layers import Dense, LSTM\n",
        "import matplotlib.pyplot as plt\n",
        "plt.style.use('fivethirtyeight')"
      ],
      "execution_count": 3,
      "outputs": []
    },
    {
      "cell_type": "code",
      "metadata": {
        "colab": {
          "base_uri": "https://localhost:8080/",
          "height": 450
        },
        "id": "56Ir4V22Ltrl",
        "outputId": "31db4a93-a0ce-4598-c454-f2c0a2e3ffd5"
      },
      "source": [
        "df = web.DataReader('AAPL', data_source='yahoo', start='2012-01-01', end = '2020-12-30')\n",
        "df\n"
      ],
      "execution_count": 5,
      "outputs": [
        {
          "output_type": "execute_result",
          "data": {
            "text/html": [
              "<div>\n",
              "<style scoped>\n",
              "    .dataframe tbody tr th:only-of-type {\n",
              "        vertical-align: middle;\n",
              "    }\n",
              "\n",
              "    .dataframe tbody tr th {\n",
              "        vertical-align: top;\n",
              "    }\n",
              "\n",
              "    .dataframe thead th {\n",
              "        text-align: right;\n",
              "    }\n",
              "</style>\n",
              "<table border=\"1\" class=\"dataframe\">\n",
              "  <thead>\n",
              "    <tr style=\"text-align: right;\">\n",
              "      <th></th>\n",
              "      <th>High</th>\n",
              "      <th>Low</th>\n",
              "      <th>Open</th>\n",
              "      <th>Close</th>\n",
              "      <th>Volume</th>\n",
              "      <th>Adj Close</th>\n",
              "    </tr>\n",
              "    <tr>\n",
              "      <th>Date</th>\n",
              "      <th></th>\n",
              "      <th></th>\n",
              "      <th></th>\n",
              "      <th></th>\n",
              "      <th></th>\n",
              "      <th></th>\n",
              "    </tr>\n",
              "  </thead>\n",
              "  <tbody>\n",
              "    <tr>\n",
              "      <th>2012-01-03</th>\n",
              "      <td>14.732143</td>\n",
              "      <td>14.607143</td>\n",
              "      <td>14.621429</td>\n",
              "      <td>14.686786</td>\n",
              "      <td>302220800.0</td>\n",
              "      <td>12.629209</td>\n",
              "    </tr>\n",
              "    <tr>\n",
              "      <th>2012-01-04</th>\n",
              "      <td>14.810000</td>\n",
              "      <td>14.617143</td>\n",
              "      <td>14.642857</td>\n",
              "      <td>14.765714</td>\n",
              "      <td>260022000.0</td>\n",
              "      <td>12.697079</td>\n",
              "    </tr>\n",
              "    <tr>\n",
              "      <th>2012-01-05</th>\n",
              "      <td>14.948214</td>\n",
              "      <td>14.738214</td>\n",
              "      <td>14.819643</td>\n",
              "      <td>14.929643</td>\n",
              "      <td>271269600.0</td>\n",
              "      <td>12.838044</td>\n",
              "    </tr>\n",
              "    <tr>\n",
              "      <th>2012-01-06</th>\n",
              "      <td>15.098214</td>\n",
              "      <td>14.972143</td>\n",
              "      <td>14.991786</td>\n",
              "      <td>15.085714</td>\n",
              "      <td>318292800.0</td>\n",
              "      <td>12.972249</td>\n",
              "    </tr>\n",
              "    <tr>\n",
              "      <th>2012-01-09</th>\n",
              "      <td>15.276786</td>\n",
              "      <td>15.048214</td>\n",
              "      <td>15.196429</td>\n",
              "      <td>15.061786</td>\n",
              "      <td>394024400.0</td>\n",
              "      <td>12.951672</td>\n",
              "    </tr>\n",
              "    <tr>\n",
              "      <th>...</th>\n",
              "      <td>...</td>\n",
              "      <td>...</td>\n",
              "      <td>...</td>\n",
              "      <td>...</td>\n",
              "      <td>...</td>\n",
              "      <td>...</td>\n",
              "    </tr>\n",
              "    <tr>\n",
              "      <th>2020-12-23</th>\n",
              "      <td>132.429993</td>\n",
              "      <td>130.779999</td>\n",
              "      <td>132.160004</td>\n",
              "      <td>130.960007</td>\n",
              "      <td>88223700.0</td>\n",
              "      <td>130.542862</td>\n",
              "    </tr>\n",
              "    <tr>\n",
              "      <th>2020-12-24</th>\n",
              "      <td>133.460007</td>\n",
              "      <td>131.100006</td>\n",
              "      <td>131.320007</td>\n",
              "      <td>131.970001</td>\n",
              "      <td>54930100.0</td>\n",
              "      <td>131.549637</td>\n",
              "    </tr>\n",
              "    <tr>\n",
              "      <th>2020-12-28</th>\n",
              "      <td>137.339996</td>\n",
              "      <td>133.509995</td>\n",
              "      <td>133.990005</td>\n",
              "      <td>136.690002</td>\n",
              "      <td>124486200.0</td>\n",
              "      <td>136.254608</td>\n",
              "    </tr>\n",
              "    <tr>\n",
              "      <th>2020-12-29</th>\n",
              "      <td>138.789993</td>\n",
              "      <td>134.339996</td>\n",
              "      <td>138.050003</td>\n",
              "      <td>134.869995</td>\n",
              "      <td>121047300.0</td>\n",
              "      <td>134.440399</td>\n",
              "    </tr>\n",
              "    <tr>\n",
              "      <th>2020-12-30</th>\n",
              "      <td>135.990005</td>\n",
              "      <td>133.399994</td>\n",
              "      <td>135.580002</td>\n",
              "      <td>133.720001</td>\n",
              "      <td>96452100.0</td>\n",
              "      <td>133.294067</td>\n",
              "    </tr>\n",
              "  </tbody>\n",
              "</table>\n",
              "<p>2264 rows × 6 columns</p>\n",
              "</div>"
            ],
            "text/plain": [
              "                  High         Low  ...       Volume   Adj Close\n",
              "Date                                ...                         \n",
              "2012-01-03   14.732143   14.607143  ...  302220800.0   12.629209\n",
              "2012-01-04   14.810000   14.617143  ...  260022000.0   12.697079\n",
              "2012-01-05   14.948214   14.738214  ...  271269600.0   12.838044\n",
              "2012-01-06   15.098214   14.972143  ...  318292800.0   12.972249\n",
              "2012-01-09   15.276786   15.048214  ...  394024400.0   12.951672\n",
              "...                ...         ...  ...          ...         ...\n",
              "2020-12-23  132.429993  130.779999  ...   88223700.0  130.542862\n",
              "2020-12-24  133.460007  131.100006  ...   54930100.0  131.549637\n",
              "2020-12-28  137.339996  133.509995  ...  124486200.0  136.254608\n",
              "2020-12-29  138.789993  134.339996  ...  121047300.0  134.440399\n",
              "2020-12-30  135.990005  133.399994  ...   96452100.0  133.294067\n",
              "\n",
              "[2264 rows x 6 columns]"
            ]
          },
          "metadata": {
            "tags": []
          },
          "execution_count": 5
        }
      ]
    },
    {
      "cell_type": "code",
      "metadata": {
        "colab": {
          "base_uri": "https://localhost:8080/"
        },
        "id": "m7-poJKIN_Yg",
        "outputId": "2bbb3870-ce02-42eb-cec0-5645027436fb"
      },
      "source": [
        "df.shape"
      ],
      "execution_count": 6,
      "outputs": [
        {
          "output_type": "execute_result",
          "data": {
            "text/plain": [
              "(2264, 6)"
            ]
          },
          "metadata": {
            "tags": []
          },
          "execution_count": 6
        }
      ]
    },
    {
      "cell_type": "code",
      "metadata": {
        "colab": {
          "base_uri": "https://localhost:8080/",
          "height": 558
        },
        "id": "Wmhj9m3mQZsa",
        "outputId": "0d85c7e5-df5c-428c-feb8-9ae9d912b9fb"
      },
      "source": [
        "plt.figure(figsize=(16,8))\n",
        "plt.title('Close Price History')\n",
        "plt.plot(df['Close'])\n",
        "plt.xlabel('Date', fontsize=18)\n",
        "plt.ylabel('Close Price USD ($)', fontsize=18)\n",
        "plt.show()"
      ],
      "execution_count": 8,
      "outputs": [
        {
          "output_type": "display_data",
          "data": {
            "image/png": "[encoded data removed]",
            "text/plain": [
              "<Figure size 1152x576 with 1 Axes>"
            ]
          },
          "metadata": {
            "tags": []
          }
        }
      ]
    },
    {
      "cell_type": "code",
      "metadata": {
        "colab": {
          "base_uri": "https://localhost:8080/"
        },
        "id": "ao0LN3oVRd5v",
        "outputId": "76b8d9f4-84c2-401d-d96d-82d958533fe1"
      },
      "source": [
        "data = df.filter(['Close'])\n",
        "dataset = data.values\n",
        "training_data_len = math.ceil( len(dataset)*.8)\n",
        "\n",
        "training_data_len"
      ],
      "execution_count": 11,
      "outputs": [
        {
          "output_type": "execute_result",
          "data": {
            "text/plain": [
              "1812"
            ]
          },
          "metadata": {
            "tags": []
          },
          "execution_count": 11
        }
      ]
    },
    {
      "cell_type": "code",
      "metadata": {
        "colab": {
          "base_uri": "https://localhost:8080/"
        },
        "id": "6wzC1bVFSOmn",
        "outputId": "81f43f6d-94a7-4d0b-de78-05c11727ff77"
      },
      "source": [
        "scaler = MinMaxScaler(feature_range=(0,1))\n",
        "scaled_data = scaler.fit_transform(dataset)\n",
        "\n",
        "scaled_data"
      ],
      "execution_count": 12,
      "outputs": [
        {
          "output_type": "execute_result",
          "data": {
            "text/plain": [
              "array([[0.00602306],\n",
              "       [0.0066661 ],\n",
              "       [0.00800165],\n",
              "       ...,\n",
              "       [1.        ],\n",
              "       [0.98517215],\n",
              "       [0.97580299]])"
            ]
          },
          "metadata": {
            "tags": []
          },
          "execution_count": 12
        }
      ]
    },
    {
      "cell_type": "code",
      "metadata": {
        "colab": {
          "base_uri": "https://localhost:8080/"
        },
        "id": "ZFU_3iKySsl8",
        "outputId": "afe00bd3-adbb-4863-bb5e-048a26bc0429"
      },
      "source": [
        "train_data = scaled_data[0:training_data_len , :]\n",
        "x_train = []\n",
        "y_train = []\n",
        "\n",
        "for i in range(60, len(train_data)):\n",
        "  x_train.append(train_data[i-60:i, 0])\n",
        "  y_train.append(train_data[i, 0])\n",
        "  if i<=61:\n",
        "    print(x_train)\n",
        "    print(y_train)\n",
        "    print()"
      ],
      "execution_count": 14,
      "outputs": [
        {
          "output_type": "stream",
          "text": [
            "[array([0.00602306, 0.0066661 , 0.00800165, 0.00927319, 0.00907824,\n",
            "       0.0095176 , 0.00931683, 0.0089793 , 0.00851957, 0.00994242,\n",
            "       0.01122559, 0.01082987, 0.00866214, 0.01073094, 0.00869416,\n",
            "       0.0163321 , 0.01574144, 0.0165125 , 0.01817975, 0.01918941,\n",
            "       0.01910503, 0.0187937 , 0.02012052, 0.02136877, 0.02278289,\n",
            "       0.025067  , 0.02986508, 0.02993782, 0.03260892, 0.03460496,\n",
            "       0.03117444, 0.03249544, 0.03246925, 0.03617329, 0.03564663,\n",
            "       0.03662137, 0.03837301, 0.03934777, 0.04215562, 0.04420112,\n",
            "       0.04479179, 0.04499838, 0.04150094, 0.04065712, 0.04078224,\n",
            "       0.0440702 , 0.04499548, 0.0469828 , 0.0516674 , 0.05791742,\n",
            "       0.05674772, 0.05675062, 0.06126938, 0.0626835 , 0.06167673,\n",
            "       0.06075728, 0.05979999, 0.06298027, 0.06516255, 0.06607619])]\n",
            "[0.06381826722571945]\n",
            "\n",
            "[array([0.00602306, 0.0066661 , 0.00800165, 0.00927319, 0.00907824,\n",
            "       0.0095176 , 0.00931683, 0.0089793 , 0.00851957, 0.00994242,\n",
            "       0.01122559, 0.01082987, 0.00866214, 0.01073094, 0.00869416,\n",
            "       0.0163321 , 0.01574144, 0.0165125 , 0.01817975, 0.01918941,\n",
            "       0.01910503, 0.0187937 , 0.02012052, 0.02136877, 0.02278289,\n",
            "       0.025067  , 0.02986508, 0.02993782, 0.03260892, 0.03460496,\n",
            "       0.03117444, 0.03249544, 0.03246925, 0.03617329, 0.03564663,\n",
            "       0.03662137, 0.03837301, 0.03934777, 0.04215562, 0.04420112,\n",
            "       0.04479179, 0.04499838, 0.04150094, 0.04065712, 0.04078224,\n",
            "       0.0440702 , 0.04499548, 0.0469828 , 0.0516674 , 0.05791742,\n",
            "       0.05674772, 0.05675062, 0.06126938, 0.0626835 , 0.06167673,\n",
            "       0.06075728, 0.05979999, 0.06298027, 0.06516255, 0.06607619]), array([0.0066661 , 0.00800165, 0.00927319, 0.00907824, 0.0095176 ,\n",
            "       0.00931683, 0.0089793 , 0.00851957, 0.00994242, 0.01122559,\n",
            "       0.01082987, 0.00866214, 0.01073094, 0.00869416, 0.0163321 ,\n",
            "       0.01574144, 0.0165125 , 0.01817975, 0.01918941, 0.01910503,\n",
            "       0.0187937 , 0.02012052, 0.02136877, 0.02278289, 0.025067  ,\n",
            "       0.02986508, 0.02993782, 0.03260892, 0.03460496, 0.03117444,\n",
            "       0.03249544, 0.03246925, 0.03617329, 0.03564663, 0.03662137,\n",
            "       0.03837301, 0.03934777, 0.04215562, 0.04420112, 0.04479179,\n",
            "       0.04499838, 0.04150094, 0.04065712, 0.04078224, 0.0440702 ,\n",
            "       0.04499548, 0.0469828 , 0.0516674 , 0.05791742, 0.05674772,\n",
            "       0.05675062, 0.06126938, 0.0626835 , 0.06167673, 0.06075728,\n",
            "       0.05979999, 0.06298027, 0.06516255, 0.06607619, 0.06381827])]\n",
            "[0.06381826722571945, 0.060818380088606155]\n",
            "\n"
          ],
          "name": "stdout"
        }
      ]
    },
    {
      "cell_type": "code",
      "metadata": {
        "id": "X2145ThJU8kp"
      },
      "source": [
        "x_train, y_train = np.array(x_train), np.array(y_train)"
      ],
      "execution_count": 15,
      "outputs": []
    },
    {
      "cell_type": "code",
      "metadata": {
        "colab": {
          "base_uri": "https://localhost:8080/"
        },
        "id": "PZWH9jrdVPI7",
        "outputId": "50c0593a-7597-4e58-c95d-aa7504350658"
      },
      "source": [
        "x_train = np.reshape(x_train, (x_train.shape[0],x_train.shape[1],1))\n",
        "x_train.shape"
      ],
      "execution_count": 17,
      "outputs": [
        {
          "output_type": "execute_result",
          "data": {
            "text/plain": [
              "(1752, 60, 1)"
            ]
          },
          "metadata": {
            "tags": []
          },
          "execution_count": 17
        }
      ]
    },
    {
      "cell_type": "code",
      "metadata": {
        "id": "yYaMant5WA5Y"
      },
      "source": [
        "#LSTM model\n",
        "model = Sequential()\n",
        "model.add(LSTM(50, return_sequences= True, input_shape=(x_train.shape[1], 1)))\n",
        "model.add(LSTM(50, return_sequences= False))\n",
        "model.add(Dense(25))\n",
        "model.add(Dense(1))"
      ],
      "execution_count": 18,
      "outputs": []
    },
    {
      "cell_type": "code",
      "metadata": {
        "id": "6eRUAI2tW0_O"
      },
      "source": [
        "model.compile(optimizer='adam', loss= 'mean_squared_error')"
      ],
      "execution_count": 19,
      "outputs": []
    },
    {
      "cell_type": "code",
      "metadata": {
        "colab": {
          "base_uri": "https://localhost:8080/"
        },
        "id": "ljvvmQHBXMYD",
        "outputId": "70f9b3e6-92f3-494e-9932-814a743f8beb"
      },
      "source": [
        "model.fit(x_train, y_train, batch_size=1, epochs=1)"
      ],
      "execution_count": 20,
      "outputs": [
        {
          "output_type": "stream",
          "text": [
            "1752/1752 [==============================] - 44s 23ms/step - loss: 5.9181e-04\n"
          ],
          "name": "stdout"
        },
        {
          "output_type": "execute_result",
          "data": {
            "text/plain": [
              "<tensorflow.python.keras.callbacks.History at 0x7ff777cd5a50>"
            ]
          },
          "metadata": {
            "tags": []
          },
          "execution_count": 20
        }
      ]
    },
    {
      "cell_type": "code",
      "metadata": {
        "id": "n-yNoFhWXlJq"
      },
      "source": [
        "#testing dataset index 1752 to 2264\n",
        "test_data = scaled_data[training_data_len - 60:, :]\n",
        "x_test = []\n",
        "y_test = dataset[training_data_len:, :]\n",
        "for i in range(60, len(test_data)):\n",
        "  x_test.append(test_data[i-60:i,0])"
      ],
      "execution_count": 21,
      "outputs": []
    },
    {
      "cell_type": "code",
      "metadata": {
        "id": "tuFW8KKtYu1b"
      },
      "source": [
        "x_test = np.array(x_test)"
      ],
      "execution_count": 22,
      "outputs": []
    },
    {
      "cell_type": "code",
      "metadata": {
        "id": "MuGB1eZfY815"
      },
      "source": [
        "x_test = np.reshape(x_test, (x_test.shape[0], x_test.shape[1],1))"
      ],
      "execution_count": 23,
      "outputs": []
    },
    {
      "cell_type": "code",
      "metadata": {
        "id": "k0FF6VFxZS7R"
      },
      "source": [
        "#predicted values \n",
        "#want the predictions to contain the same values as the y_test dataset\n",
        "predictions = model.predict(x_test)\n",
        "predictions = scaler.inverse_transform(predictions)\n",
        "\n"
      ],
      "execution_count": 24,
      "outputs": []
    },
    {
      "cell_type": "code",
      "metadata": {
        "colab": {
          "base_uri": "https://localhost:8080/"
        },
        "id": "2giCYQ2vZ7SS",
        "outputId": "c77608c1-380b-4706-e4ab-681b3628b66b"
      },
      "source": [
        "#RMSE\n",
        "rmse = np.sqrt( np.mean( predictions - y_test)**2 )\n",
        "rmse\n"
      ],
      "execution_count": 25,
      "outputs": [
        {
          "output_type": "execute_result",
          "data": {
            "text/plain": [
              "3.5953799138026956"
            ]
          },
          "metadata": {
            "tags": []
          },
          "execution_count": 25
        }
      ]
    },
    {
      "cell_type": "code",
      "metadata": {
        "colab": {
          "base_uri": "https://localhost:8080/",
          "height": 660
        },
        "id": "ivas4tZtafkR",
        "outputId": "f71e01fc-48e1-4522-ce18-fd84c011fe29"
      },
      "source": [
        "#plot\n",
        "train = data[:training_data_len]\n",
        "valid = data[training_data_len:]\n",
        "valid['Predictions'] = predictions\n",
        "plt.figure(figsize=(16,8))\n",
        "plt.title('Model')\n",
        "plt.xlabel('Date', fontsize=18)\n",
        "plt.ylabel('Close Price USD($)', fontsize=18)\n",
        "plt.plot(train['Close'])\n",
        "plt.plot(valid[['Close','Predictions']])\n",
        "plt.legend(['Train','Val','Predictions'], loc='lower right')\n",
        "plt.show()"
      ],
      "execution_count": 26,
      "outputs": [
        {
          "output_type": "stream",
          "text": [
            "/usr/local/lib/python3.7/dist-packages/ipykernel_launcher.py:4: SettingWithCopyWarning: \n",
            "A value is trying to be set on a copy of a slice from a DataFrame.\n",
            "Try using .loc[row_indexer,col_indexer] = value instead\n",
            "\n",
            "See the caveats in the documentation: https://pandas.pydata.org/pandas-docs/stable/user_guide/indexing.html#returning-a-view-versus-a-copy\n",
            "  after removing the cwd from sys.path.\n"
          ],
          "name": "stderr"
        },
        {
          "output_type": "display_data",
          "data": {
            "image/png": "[encoded data removed]",
            "text/plain": [
              "<Figure size 1152x576 with 1 Axes>"
            ]
          },
          "metadata": {
            "tags": []
          }
        }
      ]
    },
    {
      "cell_type": "code",
      "metadata": {
        "colab": {
          "base_uri": "https://localhost:8080/",
          "height": 450
        },
        "id": "DmC7rcoOcSwX",
        "outputId": "e40a00d9-d1fc-49ee-c703-6bb0984b52de"
      },
      "source": [
        "valid"
      ],
      "execution_count": 27,
      "outputs": [
        {
          "output_type": "execute_result",
          "data": {
            "text/html": [
              "<div>\n",
              "<style scoped>\n",
              "    .dataframe tbody tr th:only-of-type {\n",
              "        vertical-align: middle;\n",
              "    }\n",
              "\n",
              "    .dataframe tbody tr th {\n",
              "        vertical-align: top;\n",
              "    }\n",
              "\n",
              "    .dataframe thead th {\n",
              "        text-align: right;\n",
              "    }\n",
              "</style>\n",
              "<table border=\"1\" class=\"dataframe\">\n",
              "  <thead>\n",
              "    <tr style=\"text-align: right;\">\n",
              "      <th></th>\n",
              "      <th>Close</th>\n",
              "      <th>Predictions</th>\n",
              "    </tr>\n",
              "    <tr>\n",
              "      <th>Date</th>\n",
              "      <th></th>\n",
              "      <th></th>\n",
              "    </tr>\n",
              "  </thead>\n",
              "  <tbody>\n",
              "    <tr>\n",
              "      <th>2019-03-19</th>\n",
              "      <td>46.632500</td>\n",
              "      <td>47.285072</td>\n",
              "    </tr>\n",
              "    <tr>\n",
              "      <th>2019-03-20</th>\n",
              "      <td>47.040001</td>\n",
              "      <td>47.684452</td>\n",
              "    </tr>\n",
              "    <tr>\n",
              "      <th>2019-03-21</th>\n",
              "      <td>48.772499</td>\n",
              "      <td>48.055824</td>\n",
              "    </tr>\n",
              "    <tr>\n",
              "      <th>2019-03-22</th>\n",
              "      <td>47.762501</td>\n",
              "      <td>48.560459</td>\n",
              "    </tr>\n",
              "    <tr>\n",
              "      <th>2019-03-25</th>\n",
              "      <td>47.185001</td>\n",
              "      <td>48.980381</td>\n",
              "    </tr>\n",
              "    <tr>\n",
              "      <th>...</th>\n",
              "      <td>...</td>\n",
              "      <td>...</td>\n",
              "    </tr>\n",
              "    <tr>\n",
              "      <th>2020-12-23</th>\n",
              "      <td>130.960007</td>\n",
              "      <td>133.516495</td>\n",
              "    </tr>\n",
              "    <tr>\n",
              "      <th>2020-12-24</th>\n",
              "      <td>131.970001</td>\n",
              "      <td>134.385788</td>\n",
              "    </tr>\n",
              "    <tr>\n",
              "      <th>2020-12-28</th>\n",
              "      <td>136.690002</td>\n",
              "      <td>135.247559</td>\n",
              "    </tr>\n",
              "    <tr>\n",
              "      <th>2020-12-29</th>\n",
              "      <td>134.869995</td>\n",
              "      <td>136.515793</td>\n",
              "    </tr>\n",
              "    <tr>\n",
              "      <th>2020-12-30</th>\n",
              "      <td>133.720001</td>\n",
              "      <td>137.640579</td>\n",
              "    </tr>\n",
              "  </tbody>\n",
              "</table>\n",
              "<p>452 rows × 2 columns</p>\n",
              "</div>"
            ],
            "text/plain": [
              "                 Close  Predictions\n",
              "Date                               \n",
              "2019-03-19   46.632500    47.285072\n",
              "2019-03-20   47.040001    47.684452\n",
              "2019-03-21   48.772499    48.055824\n",
              "2019-03-22   47.762501    48.560459\n",
              "2019-03-25   47.185001    48.980381\n",
              "...                ...          ...\n",
              "2020-12-23  130.960007   133.516495\n",
              "2020-12-24  131.970001   134.385788\n",
              "2020-12-28  136.690002   135.247559\n",
              "2020-12-29  134.869995   136.515793\n",
              "2020-12-30  133.720001   137.640579\n",
              "\n",
              "[452 rows x 2 columns]"
            ]
          },
          "metadata": {
            "tags": []
          },
          "execution_count": 27
        }
      ]
    },
    {
      "cell_type": "code",
      "metadata": {
        "colab": {
          "base_uri": "https://localhost:8080/"
        },
        "id": "UclTbvwycZkk",
        "outputId": "85839d66-f203-431a-bd3b-65fe17abae80"
      },
      "source": [
        "apple_quote = web.DataReader('AAPL', data_source='yahoo', start='2012-01-01', end='2020-12-30')\n",
        "new_df = apple_quote.filter(['Close'])\n",
        "last_60_days = new_df[-60:].values\n",
        "last_60_days_scaled = scaler.transform(last_60_days)\n",
        "X_test = []\n",
        "X_test.append(last_60_days_scaled)\n",
        "X_test = np.array(X_test)\n",
        "X_test = np.reshape(X_test, (X_test.shape[0], X_test.shape[1], 1))\n",
        "pred_price = model.predict(X_test)\n",
        "pred_price = scaler.inverse_transform(pred_price)\n",
        "print(pred_price)"
      ],
      "execution_count": 29,
      "outputs": [
        {
          "output_type": "stream",
          "text": [
            "[[138.456]]\n"
          ],
          "name": "stdout"
        }
      ]
    },
    {
      "cell_type": "code",
      "metadata": {
        "colab": {
          "base_uri": "https://localhost:8080/"
        },
        "id": "TKv7xqwKelS_",
        "outputId": "8b3dabee-74bd-4185-8f90-bfcc61057a50"
      },
      "source": [
        "apple_quote2 = web.DataReader('AAPL', data_source='yahoo', start='2020-12-31', end='2020-12-31')\n",
        "print(apple_quote2['Close'])"
      ],
      "execution_count": 30,
      "outputs": [
        {
          "output_type": "stream",
          "text": [
            "Date\n",
            "2020-12-31    132.690002\n",
            "Name: Close, dtype: float64\n"
          ],
          "name": "stdout"
        }
      ]
    }
  ]
}